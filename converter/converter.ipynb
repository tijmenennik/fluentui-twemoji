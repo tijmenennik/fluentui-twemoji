{
 "cells": [
  {
   "cell_type": "markdown",
   "metadata": {},
   "source": [
    "# Convert Fluent Emoji for use with Twitter Twemoji\n",
    "\n",
    "## Get all emoji types"
   ]
  },
  {
   "cell_type": "code",
   "execution_count": 1,
   "metadata": {},
   "outputs": [
    {
     "name": "stdout",
     "output_type": "stream",
     "text": [
      "['1st place medal', '2nd place medal', '3rd place medal', 'A button blood type', 'Ab button blood type']\n"
     ]
    }
   ],
   "source": [
    "import os\n",
    "\n",
    "fluent_emoji_path = '../assets/'\n",
    "\n",
    "# Get all emoji folders in ../assets/\n",
    "emoji_folders = os.listdir(fluent_emoji_path)\n",
    "\n",
    "# Check if successful: print first 5 emoji types\n",
    "print(emoji_folders[:5])"
   ]
  },
  {
   "cell_type": "markdown",
   "metadata": {},
   "source": [
    "## Get emoji type data"
   ]
  },
  {
   "cell_type": "code",
   "execution_count": 2,
   "metadata": {},
   "outputs": [
    {
     "name": "stdout",
     "output_type": "stream",
     "text": [
      "{'cldr': '1st place medal', 'fromVersion': '3.0', 'glyph': '🥇', 'glyphAsUtfInEmoticons': ['goldmedal'], 'group': 'Activities', 'keywords': ['1st place medal', 'first', 'gold', 'medal'], 'mappedToEmoticons': ['goldmedal'], 'tts': '1st place medal', 'unicode': '1f947'}\n"
     ]
    }
   ],
   "source": [
    "import json\n",
    "\n",
    "# Create array of objects for each emoji folder\n",
    "emoji_data = dict()\n",
    "for emoji_folder in emoji_folders:\n",
    "    # Read metadata.json\n",
    "    with open(fluent_emoji_path + emoji_folder + '/metadata.json', encoding='utf8') as file:\n",
    "        metadata = json.load(file)\n",
    "        emoji_data[metadata.get('unicode')] = metadata\n",
    "        file.close()\n",
    "\n",
    "# Check if successful: print first in emoji_data\n",
    "print(list(emoji_data.values())[0])"
   ]
  },
  {
   "cell_type": "markdown",
   "metadata": {},
   "source": [
    "## Export SVG emoji"
   ]
  },
  {
   "cell_type": "code",
   "execution_count": 8,
   "metadata": {},
   "outputs": [],
   "source": [
    "import shutil\n",
    "\n",
    "variants_export_paths = {\n",
    "    'Color': '../export/color_svg/',\n",
    "    'Flat': '../export/flat_svg/',\n",
    "}\n",
    "\n",
    "# Delete previous export first\n",
    "# for export_path in variants_export_paths.values():\n",
    "#     for file in os.listdir(export_path):\n",
    "#         os.remove(export_path + file)\n",
    "\n",
    "# Create or open file for each emoji in emoji_data\n",
    "emoji_index = -1\n",
    "for unicode, data in emoji_data.items():\n",
    "    emoji_index += 1\n",
    "\n",
    "    for variant in variants_export_paths.keys():\n",
    "        # Define import and export paths, sometimes svg files are in a Default folder\n",
    "        import_folder_path = fluent_emoji_path + emoji_folders[emoji_index] + '/' + variant + '/'\n",
    "        import_folder_path_2nd = fluent_emoji_path + emoji_folders[emoji_index] + '/Default/' + variant + '/'\n",
    "\n",
    "        # Define the normal export file path with the unicode as the file name\n",
    "        normal_export_file_path = variants_export_paths[variant] + unicode.replace(' ', '-') + '.svg'\n",
    "        export_file_paths = [normal_export_file_path]\n",
    "\n",
    "        # If the unicode has a space in it and there is no other emoji with this name, also create a file with the first part only\n",
    "        if ' ' in unicode:\n",
    "            first_part = unicode.split(' ')[0]\n",
    "            if first_part not in emoji_data.keys():\n",
    "                export_file_paths.append(variants_export_paths[variant] + first_part + '.svg')\n",
    "\n",
    "        for export_file_path in export_file_paths:\n",
    "            # Create new export file, if it doesn't exist yet\n",
    "            if not os.path.exists(export_file_path):\n",
    "                try:\n",
    "                        shutil.copy(import_folder_path + os.listdir(import_folder_path)[0], export_file_path)\n",
    "                except FileNotFoundError:\n",
    "                    try:\n",
    "                            shutil.copy(import_folder_path_2nd + os.listdir(import_folder_path_2nd)[0], export_file_path)\n",
    "                    except FileNotFoundError:\n",
    "                        print('No ' + variant + ' variant found for ' + unicode)\n",
    "                        continue\n"
   ]
  }
 ],
 "metadata": {
  "kernelspec": {
   "display_name": "Python 3.9.13 64-bit (windows store)",
   "language": "python",
   "name": "python3"
  },
  "language_info": {
   "codemirror_mode": {
    "name": "ipython",
    "version": 3
   },
   "file_extension": ".py",
   "mimetype": "text/x-python",
   "name": "python",
   "nbconvert_exporter": "python",
   "pygments_lexer": "ipython3",
   "version": "3.9.13"
  },
  "orig_nbformat": 4,
  "vscode": {
   "interpreter": {
    "hash": "37c72a0c5a885dad3f8f0a3bb3134a602b1302cbdbce343d54d78a37c80bdd14"
   }
  }
 },
 "nbformat": 4,
 "nbformat_minor": 2
}
